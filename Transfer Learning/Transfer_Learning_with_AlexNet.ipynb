{
  "nbformat": 4,
  "nbformat_minor": 0,
  "metadata": {
    "colab": {
      "provenance": [],
      "gpuType": "T4"
    },
    "kernelspec": {
      "name": "python3",
      "display_name": "Python 3"
    },
    "language_info": {
      "name": "python"
    },
    "accelerator": "GPU"
  },
  "cells": [
    {
      "cell_type": "code",
      "execution_count": null,
      "metadata": {
        "id": "-lAYt3YuQWU8"
      },
      "outputs": [],
      "source": [
        "from tensorflow.keras.models import Sequential\n",
        "from tensorflow.keras.layers import (\n",
        "    Conv2D,\n",
        "    BatchNormalization,\n",
        "    LeakyReLU,\n",
        "    MaxPooling2D,\n",
        "    Flatten,\n",
        "    Dense,\n",
        "    Dropout,\n",
        "    GlobalAveragePooling2D\n",
        ")\n",
        "from tensorflow.keras import layers, models\n",
        "from tensorflow.keras.layers import Input, Conv2D, Flatten, Dense\n",
        "from tensorflow.keras.preprocessing import image\n",
        "import tensorflow as tf\n",
        "import numpy as np\n",
        "from tensorflow.keras.losses import CategoricalCrossentropy\n",
        "from tensorflow.keras.optimizers import Adam\n",
        "from tensorflow.keras.models import Model\n",
        "from matplotlib import pyplot as plt\n",
        "import glob\n"
      ]
    },
    {
      "cell_type": "code",
      "source": [
        "# Install the Kaggle API\n",
        "!pip install kaggle\n",
        "\n",
        "# Create a Kaggle folder if it doesn't exist\n",
        "!mkdir -p ~/.kaggle"
      ],
      "metadata": {
        "colab": {
          "base_uri": "https://localhost:8080/"
        },
        "id": "dILs6g7UQtbV",
        "outputId": "886b18d6-1431-4e5a-b83d-904883eb6a25"
      },
      "execution_count": null,
      "outputs": [
        {
          "output_type": "stream",
          "name": "stdout",
          "text": [
            "Requirement already satisfied: kaggle in /usr/local/lib/python3.10/dist-packages (1.6.17)\n",
            "Requirement already satisfied: six>=1.10 in /usr/local/lib/python3.10/dist-packages (from kaggle) (1.16.0)\n",
            "Requirement already satisfied: certifi>=2023.7.22 in /usr/local/lib/python3.10/dist-packages (from kaggle) (2024.8.30)\n",
            "Requirement already satisfied: python-dateutil in /usr/local/lib/python3.10/dist-packages (from kaggle) (2.8.2)\n",
            "Requirement already satisfied: requests in /usr/local/lib/python3.10/dist-packages (from kaggle) (2.32.3)\n",
            "Requirement already satisfied: tqdm in /usr/local/lib/python3.10/dist-packages (from kaggle) (4.66.6)\n",
            "Requirement already satisfied: python-slugify in /usr/local/lib/python3.10/dist-packages (from kaggle) (8.0.4)\n",
            "Requirement already satisfied: urllib3 in /usr/local/lib/python3.10/dist-packages (from kaggle) (2.2.3)\n",
            "Requirement already satisfied: bleach in /usr/local/lib/python3.10/dist-packages (from kaggle) (6.2.0)\n",
            "Requirement already satisfied: webencodings in /usr/local/lib/python3.10/dist-packages (from bleach->kaggle) (0.5.1)\n",
            "Requirement already satisfied: text-unidecode>=1.3 in /usr/local/lib/python3.10/dist-packages (from python-slugify->kaggle) (1.3)\n",
            "Requirement already satisfied: charset-normalizer<4,>=2 in /usr/local/lib/python3.10/dist-packages (from requests->kaggle) (3.4.0)\n",
            "Requirement already satisfied: idna<4,>=2.5 in /usr/local/lib/python3.10/dist-packages (from requests->kaggle) (3.10)\n"
          ]
        }
      ]
    },
    {
      "cell_type": "code",
      "source": [
        "from google.colab import drive\n",
        "\n",
        "drive.mount('/content/drive/')"
      ],
      "metadata": {
        "colab": {
          "base_uri": "https://localhost:8080/"
        },
        "id": "OP8Sb9w_QyhJ",
        "outputId": "8fe7d892-7fe1-4efc-cbcb-89d14aa819fc"
      },
      "execution_count": null,
      "outputs": [
        {
          "output_type": "stream",
          "name": "stdout",
          "text": [
            "Drive already mounted at /content/drive/; to attempt to forcibly remount, call drive.mount(\"/content/drive/\", force_remount=True).\n"
          ]
        }
      ]
    },
    {
      "cell_type": "code",
      "source": [
        "!cp kaggle.json ~/.kaggle/kaggle.json\n",
        "!chmod 600 ~/.kaggle/kaggle.json  # Change permissions"
      ],
      "metadata": {
        "colab": {
          "base_uri": "https://localhost:8080/"
        },
        "id": "W7dYB6eMQ0c5",
        "outputId": "4be3fe99-8e0f-4034-e2e1-da63fef9e41a"
      },
      "execution_count": null,
      "outputs": [
        {
          "output_type": "stream",
          "name": "stdout",
          "text": [
            "cp: cannot stat 'kaggle.json': No such file or directory\n",
            "chmod: cannot access '/root/.kaggle/kaggle.json': No such file or directory\n"
          ]
        }
      ]
    },
    {
      "cell_type": "code",
      "source": [
        "!kaggle datasets download ananthu017/emotion-detection-fer -p /content/ --unzip\n"
      ],
      "metadata": {
        "colab": {
          "base_uri": "https://localhost:8080/"
        },
        "id": "0w4l2YBpQ75-",
        "outputId": "dc5ef14e-e61c-49bf-dfde-aa3b14249228"
      },
      "execution_count": null,
      "outputs": [
        {
          "output_type": "stream",
          "name": "stdout",
          "text": [
            "Dataset URL: https://www.kaggle.com/datasets/ananthu017/emotion-detection-fer\n",
            "License(s): CC0-1.0\n",
            "Downloading emotion-detection-fer.zip to /content\n",
            " 98% 64.0M/65.2M [00:00<00:00, 235MB/s]\n",
            "100% 65.2M/65.2M [00:00<00:00, 220MB/s]\n"
          ]
        }
      ]
    },
    {
      "cell_type": "code",
      "source": [
        "train_dir = \"/content/train/\"\n",
        "test_dir = \"/content/test/\"\n",
        "\n",
        "CLASS_NAMES = ['angry', 'disgusted', 'fearful', 'happy', 'neutral', 'sad', 'surprised']\n"
      ],
      "metadata": {
        "id": "wo-XN-LYREjd"
      },
      "execution_count": null,
      "outputs": []
    },
    {
      "cell_type": "code",
      "source": [
        "from tensorflow.keras.preprocessing.image import ImageDataGenerator\n",
        "\n",
        "# Define paths and parameters\n",
        "image_shape = (224, 224)  # Resize all images to 224x224\n",
        "batch_size = 32  # Batch size for loading data\n",
        "\n",
        "# Initialize ImageDataGenerator for training/validation and test\n",
        "train_valid_datagen = ImageDataGenerator(\n",
        "    rescale=1.0 / 255.0,  # Normalize pixel values to [0, 1]\n",
        "    rotation_range=20,  # Random rotation\n",
        "    width_shift_range=0.2,  # Random horizontal shifts\n",
        "    height_shift_range=0.2,  # Random vertical shifts\n",
        "    shear_range=0.2,  # Random shearing\n",
        "    zoom_range=0.2,  # Random zoom\n",
        "    horizontal_flip=True,  # Random horizontal flips\n",
        "    validation_split=0.125  # 10% out of the 80% data for validation (10/80 = 0.125)\n",
        ")\n",
        "\n",
        "test_datagen = ImageDataGenerator(rescale=1.0 / 255.0)  # Only rescaling for test data\n",
        "\n",
        "# Create training data generator (70% of the total dataset)\n",
        "print(\"Training Images:\")\n",
        "train_data = train_valid_datagen.flow_from_directory(\n",
        "    train_dir,\n",
        "    target_size=image_shape,\n",
        "    batch_size=batch_size,\n",
        "    class_mode='categorical',\n",
        "    shuffle=True,\n",
        "    subset='training'  # Specify training subset (70% of total)\n",
        ")\n",
        "\n",
        "# Create validation data generator (10% of the total dataset)\n",
        "print(\"Validating Images:\")\n",
        "valid_data = train_valid_datagen.flow_from_directory(\n",
        "    train_dir,\n",
        "    target_size=image_shape,\n",
        "    batch_size=batch_size,\n",
        "    class_mode='categorical',\n",
        "    shuffle=False,\n",
        "    subset='validation'  # Specify validation subset (10% of total)\n",
        ")\n",
        "\n",
        "# Create test data generator (20% of the total dataset)\n",
        "print(\"Test Images:\")\n",
        "test_data = test_datagen.flow_from_directory(\n",
        "    test_dir,\n",
        "    target_size=image_shape,\n",
        "    batch_size=batch_size,\n",
        "    class_mode='categorical',\n",
        "    shuffle=False\n",
        ")"
      ],
      "metadata": {
        "colab": {
          "base_uri": "https://localhost:8080/"
        },
        "id": "hSoyYsGnRXJW",
        "outputId": "4928d48c-7148-4feb-9cbc-8ef2e90b626d"
      },
      "execution_count": null,
      "outputs": [
        {
          "output_type": "stream",
          "name": "stdout",
          "text": [
            "Training Images:\n",
            "Found 25124 images belonging to 7 classes.\n",
            "Validating Images:\n",
            "Found 3585 images belonging to 7 classes.\n",
            "Test Images:\n",
            "Found 7178 images belonging to 7 classes.\n"
          ]
        }
      ]
    },
    {
      "cell_type": "code",
      "source": [
        "# Extract class names from the datasets using class_indices\n",
        "train_class_names = list(train_data.class_indices.keys())\n",
        "valid_class_names = list(valid_data.class_indices.keys())\n",
        "test_class_names = list(test_data.class_indices.keys())\n",
        "\n",
        "# Print class names\n",
        "print(\"Training Class Names:\", train_class_names)\n",
        "print(\"Validation Class Names:\", valid_class_names)\n",
        "print(\"Test Class Names:\", test_class_names)\n",
        "\n",
        "# Print the number of classes\n",
        "print(\"Number of Training Classes:\", len(train_class_names))\n",
        "print(\"Number of Validation Classes:\", len(valid_class_names))\n",
        "print(\"Number of Test Classes:\", len(test_class_names))\n",
        "\n",
        "class_names = train_class_names\n",
        "class_names"
      ],
      "metadata": {
        "colab": {
          "base_uri": "https://localhost:8080/"
        },
        "id": "kV5VHcEMRZk6",
        "outputId": "bd988593-dcec-4bab-9f68-8e91fecb898c"
      },
      "execution_count": null,
      "outputs": [
        {
          "output_type": "stream",
          "name": "stdout",
          "text": [
            "Training Class Names: ['angry', 'disgusted', 'fearful', 'happy', 'neutral', 'sad', 'surprised']\n",
            "Validation Class Names: ['angry', 'disgusted', 'fearful', 'happy', 'neutral', 'sad', 'surprised']\n",
            "Test Class Names: ['angry', 'disgusted', 'fearful', 'happy', 'neutral', 'sad', 'surprised']\n",
            "Number of Training Classes: 7\n",
            "Number of Validation Classes: 7\n",
            "Number of Test Classes: 7\n"
          ]
        },
        {
          "output_type": "execute_result",
          "data": {
            "text/plain": [
              "['angry', 'disgusted', 'fearful', 'happy', 'neutral', 'sad', 'surprised']"
            ]
          },
          "metadata": {},
          "execution_count": 8
        }
      ]
    },
    {
      "cell_type": "markdown",
      "source": [
        "# Dataset Visualization\n"
      ],
      "metadata": {
        "id": "_mSTTf-WRwS9"
      }
    },
    {
      "cell_type": "code",
      "source": [],
      "metadata": {
        "id": "zCaGOBpKR1ui"
      },
      "execution_count": null,
      "outputs": []
    },
    {
      "cell_type": "code",
      "source": [],
      "metadata": {
        "id": "9hA9G3gKiaLM"
      },
      "execution_count": null,
      "outputs": []
    },
    {
      "cell_type": "markdown",
      "source": [
        "# Modeling\n"
      ],
      "metadata": {
        "id": "7EoAaRG8R6Ya"
      }
    },
    {
      "cell_type": "code",
      "source": [
        "CONFIGURATION = {\n",
        "    'BATCH_SIZE':32,\n",
        "    'IM_SIZE': 224,\n",
        "    'LEARNING_RATE':0.001,\n",
        "    'N_EPOCHS': 25,\n",
        "    'DROPOUT_RATE':0.0,\n",
        "    'REGULARIZATION_RATE':0.0,\n",
        "    'N_FILTERS':6,\n",
        "    'KERNEL_SIZE': 3,\n",
        "    'N_STRIDES': 1,\n",
        "    'POOL_SIZE' : 2,\n",
        "    'N_DENSE_1':100,\n",
        "    'N_DENSE_2': 10,\n",
        "    'NUM_CLASSES' : 7\n",
        "}\n"
      ],
      "metadata": {
        "id": "sBf_-2CoR92x"
      },
      "execution_count": null,
      "outputs": []
    },
    {
      "cell_type": "markdown",
      "source": [
        "# Transfer Learning with AlexNet"
      ],
      "metadata": {
        "id": "KaTufoQwR_st"
      }
    },
    {
      "cell_type": "code",
      "source": [
        "import tensorflow as tf\n",
        "from tensorflow.keras import layers, models\n",
        "\n",
        "# Configuration\n",
        "CONFIGURATION = {'IM_SIZE': 224}  # AlexNet originally used 227x227 images\n",
        "\n",
        "# Define the AlexNet backbone using a third-party implementation or custom code\n",
        "def build_alexnet(input_shape):\n",
        "    inputs = tf.keras.Input(shape=input_shape)\n",
        "\n",
        "    # Convolutional Layers\n",
        "    x = layers.Conv2D(96, (11, 11), strides=4, activation='relu', padding='valid')(inputs)\n",
        "    x = layers.MaxPooling2D((3, 3), strides=2)(x)\n",
        "\n",
        "    x = layers.Conv2D(256, (5, 5), activation='relu', padding='same')(x)\n",
        "    x = layers.MaxPooling2D((3, 3), strides=2)(x)\n",
        "\n",
        "    x = layers.Conv2D(384, (3, 3), activation='relu', padding='same')(x)\n",
        "    x = layers.Conv2D(384, (3, 3), activation='relu', padding='same')(x)\n",
        "    x = layers.Conv2D(256, (3, 3), activation='relu', padding='same')(x)\n",
        "    x = layers.MaxPooling2D((3, 3), strides=2)(x)\n",
        "\n",
        "    return inputs, x\n",
        "\n",
        "# Build AlexNet backbone\n",
        "inputs, alexnet_output = build_alexnet((CONFIGURATION['IM_SIZE'], CONFIGURATION['IM_SIZE'], 3))\n",
        "\n",
        "# Add global average pooling to reduce dimensionality\n",
        "x = layers.GlobalAveragePooling2D()(alexnet_output)\n",
        "\n",
        "# Add fully connected layers with dropout\n",
        "x = layers.Dropout(0.2)(x)\n",
        "\n",
        "# Output layer for multi-class classification\n",
        "outputs = layers.Dense(7, activation='softmax')(x)\n",
        "\n",
        "# Define the model\n",
        "model = models.Model(inputs=inputs, outputs=outputs)"
      ],
      "metadata": {
        "id": "FeD1lK2ySEOH"
      },
      "execution_count": null,
      "outputs": []
    },
    {
      "cell_type": "code",
      "source": [
        "model.summary()"
      ],
      "metadata": {
        "id": "_tpvA11LSQXR",
        "colab": {
          "base_uri": "https://localhost:8080/",
          "height": 529
        },
        "outputId": "0baa9e0b-4c71-4ccd-92df-d065ece24983"
      },
      "execution_count": null,
      "outputs": [
        {
          "output_type": "display_data",
          "data": {
            "text/plain": [
              "\u001b[1mModel: \"functional\"\u001b[0m\n"
            ],
            "text/html": [
              "<pre style=\"white-space:pre;overflow-x:auto;line-height:normal;font-family:Menlo,'DejaVu Sans Mono',consolas,'Courier New',monospace\"><span style=\"font-weight: bold\">Model: \"functional\"</span>\n",
              "</pre>\n"
            ]
          },
          "metadata": {}
        },
        {
          "output_type": "display_data",
          "data": {
            "text/plain": [
              "┏━━━━━━━━━━━━━━━━━━━━━━━━━━━━━━━━━━━━━━┳━━━━━━━━━━━━━━━━━━━━━━━━━━━━━┳━━━━━━━━━━━━━━━━━┓\n",
              "┃\u001b[1m \u001b[0m\u001b[1mLayer (type)                        \u001b[0m\u001b[1m \u001b[0m┃\u001b[1m \u001b[0m\u001b[1mOutput Shape               \u001b[0m\u001b[1m \u001b[0m┃\u001b[1m \u001b[0m\u001b[1m        Param #\u001b[0m\u001b[1m \u001b[0m┃\n",
              "┡━━━━━━━━━━━━━━━━━━━━━━━━━━━━━━━━━━━━━━╇━━━━━━━━━━━━━━━━━━━━━━━━━━━━━╇━━━━━━━━━━━━━━━━━┩\n",
              "│ input_layer (\u001b[38;5;33mInputLayer\u001b[0m)             │ (\u001b[38;5;45mNone\u001b[0m, \u001b[38;5;34m224\u001b[0m, \u001b[38;5;34m224\u001b[0m, \u001b[38;5;34m3\u001b[0m)         │               \u001b[38;5;34m0\u001b[0m │\n",
              "├──────────────────────────────────────┼─────────────────────────────┼─────────────────┤\n",
              "│ conv2d (\u001b[38;5;33mConv2D\u001b[0m)                      │ (\u001b[38;5;45mNone\u001b[0m, \u001b[38;5;34m54\u001b[0m, \u001b[38;5;34m54\u001b[0m, \u001b[38;5;34m96\u001b[0m)          │          \u001b[38;5;34m34,944\u001b[0m │\n",
              "├──────────────────────────────────────┼─────────────────────────────┼─────────────────┤\n",
              "│ max_pooling2d (\u001b[38;5;33mMaxPooling2D\u001b[0m)         │ (\u001b[38;5;45mNone\u001b[0m, \u001b[38;5;34m26\u001b[0m, \u001b[38;5;34m26\u001b[0m, \u001b[38;5;34m96\u001b[0m)          │               \u001b[38;5;34m0\u001b[0m │\n",
              "├──────────────────────────────────────┼─────────────────────────────┼─────────────────┤\n",
              "│ conv2d_1 (\u001b[38;5;33mConv2D\u001b[0m)                    │ (\u001b[38;5;45mNone\u001b[0m, \u001b[38;5;34m26\u001b[0m, \u001b[38;5;34m26\u001b[0m, \u001b[38;5;34m256\u001b[0m)         │         \u001b[38;5;34m614,656\u001b[0m │\n",
              "├──────────────────────────────────────┼─────────────────────────────┼─────────────────┤\n",
              "│ max_pooling2d_1 (\u001b[38;5;33mMaxPooling2D\u001b[0m)       │ (\u001b[38;5;45mNone\u001b[0m, \u001b[38;5;34m12\u001b[0m, \u001b[38;5;34m12\u001b[0m, \u001b[38;5;34m256\u001b[0m)         │               \u001b[38;5;34m0\u001b[0m │\n",
              "├──────────────────────────────────────┼─────────────────────────────┼─────────────────┤\n",
              "│ conv2d_2 (\u001b[38;5;33mConv2D\u001b[0m)                    │ (\u001b[38;5;45mNone\u001b[0m, \u001b[38;5;34m12\u001b[0m, \u001b[38;5;34m12\u001b[0m, \u001b[38;5;34m384\u001b[0m)         │         \u001b[38;5;34m885,120\u001b[0m │\n",
              "├──────────────────────────────────────┼─────────────────────────────┼─────────────────┤\n",
              "│ conv2d_3 (\u001b[38;5;33mConv2D\u001b[0m)                    │ (\u001b[38;5;45mNone\u001b[0m, \u001b[38;5;34m12\u001b[0m, \u001b[38;5;34m12\u001b[0m, \u001b[38;5;34m384\u001b[0m)         │       \u001b[38;5;34m1,327,488\u001b[0m │\n",
              "├──────────────────────────────────────┼─────────────────────────────┼─────────────────┤\n",
              "│ conv2d_4 (\u001b[38;5;33mConv2D\u001b[0m)                    │ (\u001b[38;5;45mNone\u001b[0m, \u001b[38;5;34m12\u001b[0m, \u001b[38;5;34m12\u001b[0m, \u001b[38;5;34m256\u001b[0m)         │         \u001b[38;5;34m884,992\u001b[0m │\n",
              "├──────────────────────────────────────┼─────────────────────────────┼─────────────────┤\n",
              "│ max_pooling2d_2 (\u001b[38;5;33mMaxPooling2D\u001b[0m)       │ (\u001b[38;5;45mNone\u001b[0m, \u001b[38;5;34m5\u001b[0m, \u001b[38;5;34m5\u001b[0m, \u001b[38;5;34m256\u001b[0m)           │               \u001b[38;5;34m0\u001b[0m │\n",
              "├──────────────────────────────────────┼─────────────────────────────┼─────────────────┤\n",
              "│ global_average_pooling2d             │ (\u001b[38;5;45mNone\u001b[0m, \u001b[38;5;34m256\u001b[0m)                 │               \u001b[38;5;34m0\u001b[0m │\n",
              "│ (\u001b[38;5;33mGlobalAveragePooling2D\u001b[0m)             │                             │                 │\n",
              "├──────────────────────────────────────┼─────────────────────────────┼─────────────────┤\n",
              "│ dropout (\u001b[38;5;33mDropout\u001b[0m)                    │ (\u001b[38;5;45mNone\u001b[0m, \u001b[38;5;34m256\u001b[0m)                 │               \u001b[38;5;34m0\u001b[0m │\n",
              "├──────────────────────────────────────┼─────────────────────────────┼─────────────────┤\n",
              "│ dense (\u001b[38;5;33mDense\u001b[0m)                        │ (\u001b[38;5;45mNone\u001b[0m, \u001b[38;5;34m7\u001b[0m)                   │           \u001b[38;5;34m1,799\u001b[0m │\n",
              "└──────────────────────────────────────┴─────────────────────────────┴─────────────────┘\n"
            ],
            "text/html": [
              "<pre style=\"white-space:pre;overflow-x:auto;line-height:normal;font-family:Menlo,'DejaVu Sans Mono',consolas,'Courier New',monospace\">┏━━━━━━━━━━━━━━━━━━━━━━━━━━━━━━━━━━━━━━┳━━━━━━━━━━━━━━━━━━━━━━━━━━━━━┳━━━━━━━━━━━━━━━━━┓\n",
              "┃<span style=\"font-weight: bold\"> Layer (type)                         </span>┃<span style=\"font-weight: bold\"> Output Shape                </span>┃<span style=\"font-weight: bold\">         Param # </span>┃\n",
              "┡━━━━━━━━━━━━━━━━━━━━━━━━━━━━━━━━━━━━━━╇━━━━━━━━━━━━━━━━━━━━━━━━━━━━━╇━━━━━━━━━━━━━━━━━┩\n",
              "│ input_layer (<span style=\"color: #0087ff; text-decoration-color: #0087ff\">InputLayer</span>)             │ (<span style=\"color: #00d7ff; text-decoration-color: #00d7ff\">None</span>, <span style=\"color: #00af00; text-decoration-color: #00af00\">224</span>, <span style=\"color: #00af00; text-decoration-color: #00af00\">224</span>, <span style=\"color: #00af00; text-decoration-color: #00af00\">3</span>)         │               <span style=\"color: #00af00; text-decoration-color: #00af00\">0</span> │\n",
              "├──────────────────────────────────────┼─────────────────────────────┼─────────────────┤\n",
              "│ conv2d (<span style=\"color: #0087ff; text-decoration-color: #0087ff\">Conv2D</span>)                      │ (<span style=\"color: #00d7ff; text-decoration-color: #00d7ff\">None</span>, <span style=\"color: #00af00; text-decoration-color: #00af00\">54</span>, <span style=\"color: #00af00; text-decoration-color: #00af00\">54</span>, <span style=\"color: #00af00; text-decoration-color: #00af00\">96</span>)          │          <span style=\"color: #00af00; text-decoration-color: #00af00\">34,944</span> │\n",
              "├──────────────────────────────────────┼─────────────────────────────┼─────────────────┤\n",
              "│ max_pooling2d (<span style=\"color: #0087ff; text-decoration-color: #0087ff\">MaxPooling2D</span>)         │ (<span style=\"color: #00d7ff; text-decoration-color: #00d7ff\">None</span>, <span style=\"color: #00af00; text-decoration-color: #00af00\">26</span>, <span style=\"color: #00af00; text-decoration-color: #00af00\">26</span>, <span style=\"color: #00af00; text-decoration-color: #00af00\">96</span>)          │               <span style=\"color: #00af00; text-decoration-color: #00af00\">0</span> │\n",
              "├──────────────────────────────────────┼─────────────────────────────┼─────────────────┤\n",
              "│ conv2d_1 (<span style=\"color: #0087ff; text-decoration-color: #0087ff\">Conv2D</span>)                    │ (<span style=\"color: #00d7ff; text-decoration-color: #00d7ff\">None</span>, <span style=\"color: #00af00; text-decoration-color: #00af00\">26</span>, <span style=\"color: #00af00; text-decoration-color: #00af00\">26</span>, <span style=\"color: #00af00; text-decoration-color: #00af00\">256</span>)         │         <span style=\"color: #00af00; text-decoration-color: #00af00\">614,656</span> │\n",
              "├──────────────────────────────────────┼─────────────────────────────┼─────────────────┤\n",
              "│ max_pooling2d_1 (<span style=\"color: #0087ff; text-decoration-color: #0087ff\">MaxPooling2D</span>)       │ (<span style=\"color: #00d7ff; text-decoration-color: #00d7ff\">None</span>, <span style=\"color: #00af00; text-decoration-color: #00af00\">12</span>, <span style=\"color: #00af00; text-decoration-color: #00af00\">12</span>, <span style=\"color: #00af00; text-decoration-color: #00af00\">256</span>)         │               <span style=\"color: #00af00; text-decoration-color: #00af00\">0</span> │\n",
              "├──────────────────────────────────────┼─────────────────────────────┼─────────────────┤\n",
              "│ conv2d_2 (<span style=\"color: #0087ff; text-decoration-color: #0087ff\">Conv2D</span>)                    │ (<span style=\"color: #00d7ff; text-decoration-color: #00d7ff\">None</span>, <span style=\"color: #00af00; text-decoration-color: #00af00\">12</span>, <span style=\"color: #00af00; text-decoration-color: #00af00\">12</span>, <span style=\"color: #00af00; text-decoration-color: #00af00\">384</span>)         │         <span style=\"color: #00af00; text-decoration-color: #00af00\">885,120</span> │\n",
              "├──────────────────────────────────────┼─────────────────────────────┼─────────────────┤\n",
              "│ conv2d_3 (<span style=\"color: #0087ff; text-decoration-color: #0087ff\">Conv2D</span>)                    │ (<span style=\"color: #00d7ff; text-decoration-color: #00d7ff\">None</span>, <span style=\"color: #00af00; text-decoration-color: #00af00\">12</span>, <span style=\"color: #00af00; text-decoration-color: #00af00\">12</span>, <span style=\"color: #00af00; text-decoration-color: #00af00\">384</span>)         │       <span style=\"color: #00af00; text-decoration-color: #00af00\">1,327,488</span> │\n",
              "├──────────────────────────────────────┼─────────────────────────────┼─────────────────┤\n",
              "│ conv2d_4 (<span style=\"color: #0087ff; text-decoration-color: #0087ff\">Conv2D</span>)                    │ (<span style=\"color: #00d7ff; text-decoration-color: #00d7ff\">None</span>, <span style=\"color: #00af00; text-decoration-color: #00af00\">12</span>, <span style=\"color: #00af00; text-decoration-color: #00af00\">12</span>, <span style=\"color: #00af00; text-decoration-color: #00af00\">256</span>)         │         <span style=\"color: #00af00; text-decoration-color: #00af00\">884,992</span> │\n",
              "├──────────────────────────────────────┼─────────────────────────────┼─────────────────┤\n",
              "│ max_pooling2d_2 (<span style=\"color: #0087ff; text-decoration-color: #0087ff\">MaxPooling2D</span>)       │ (<span style=\"color: #00d7ff; text-decoration-color: #00d7ff\">None</span>, <span style=\"color: #00af00; text-decoration-color: #00af00\">5</span>, <span style=\"color: #00af00; text-decoration-color: #00af00\">5</span>, <span style=\"color: #00af00; text-decoration-color: #00af00\">256</span>)           │               <span style=\"color: #00af00; text-decoration-color: #00af00\">0</span> │\n",
              "├──────────────────────────────────────┼─────────────────────────────┼─────────────────┤\n",
              "│ global_average_pooling2d             │ (<span style=\"color: #00d7ff; text-decoration-color: #00d7ff\">None</span>, <span style=\"color: #00af00; text-decoration-color: #00af00\">256</span>)                 │               <span style=\"color: #00af00; text-decoration-color: #00af00\">0</span> │\n",
              "│ (<span style=\"color: #0087ff; text-decoration-color: #0087ff\">GlobalAveragePooling2D</span>)             │                             │                 │\n",
              "├──────────────────────────────────────┼─────────────────────────────┼─────────────────┤\n",
              "│ dropout (<span style=\"color: #0087ff; text-decoration-color: #0087ff\">Dropout</span>)                    │ (<span style=\"color: #00d7ff; text-decoration-color: #00d7ff\">None</span>, <span style=\"color: #00af00; text-decoration-color: #00af00\">256</span>)                 │               <span style=\"color: #00af00; text-decoration-color: #00af00\">0</span> │\n",
              "├──────────────────────────────────────┼─────────────────────────────┼─────────────────┤\n",
              "│ dense (<span style=\"color: #0087ff; text-decoration-color: #0087ff\">Dense</span>)                        │ (<span style=\"color: #00d7ff; text-decoration-color: #00d7ff\">None</span>, <span style=\"color: #00af00; text-decoration-color: #00af00\">7</span>)                   │           <span style=\"color: #00af00; text-decoration-color: #00af00\">1,799</span> │\n",
              "└──────────────────────────────────────┴─────────────────────────────┴─────────────────┘\n",
              "</pre>\n"
            ]
          },
          "metadata": {}
        },
        {
          "output_type": "display_data",
          "data": {
            "text/plain": [
              "\u001b[1m Total params: \u001b[0m\u001b[38;5;34m3,748,999\u001b[0m (14.30 MB)\n"
            ],
            "text/html": [
              "<pre style=\"white-space:pre;overflow-x:auto;line-height:normal;font-family:Menlo,'DejaVu Sans Mono',consolas,'Courier New',monospace\"><span style=\"font-weight: bold\"> Total params: </span><span style=\"color: #00af00; text-decoration-color: #00af00\">3,748,999</span> (14.30 MB)\n",
              "</pre>\n"
            ]
          },
          "metadata": {}
        },
        {
          "output_type": "display_data",
          "data": {
            "text/plain": [
              "\u001b[1m Trainable params: \u001b[0m\u001b[38;5;34m3,748,999\u001b[0m (14.30 MB)\n"
            ],
            "text/html": [
              "<pre style=\"white-space:pre;overflow-x:auto;line-height:normal;font-family:Menlo,'DejaVu Sans Mono',consolas,'Courier New',monospace\"><span style=\"font-weight: bold\"> Trainable params: </span><span style=\"color: #00af00; text-decoration-color: #00af00\">3,748,999</span> (14.30 MB)\n",
              "</pre>\n"
            ]
          },
          "metadata": {}
        },
        {
          "output_type": "display_data",
          "data": {
            "text/plain": [
              "\u001b[1m Non-trainable params: \u001b[0m\u001b[38;5;34m0\u001b[0m (0.00 B)\n"
            ],
            "text/html": [
              "<pre style=\"white-space:pre;overflow-x:auto;line-height:normal;font-family:Menlo,'DejaVu Sans Mono',consolas,'Courier New',monospace\"><span style=\"font-weight: bold\"> Non-trainable params: </span><span style=\"color: #00af00; text-decoration-color: #00af00\">0</span> (0.00 B)\n",
              "</pre>\n"
            ]
          },
          "metadata": {}
        }
      ]
    },
    {
      "cell_type": "code",
      "source": [
        "from tensorflow.keras.callbacks import EarlyStopping, LearningRateScheduler\n",
        "\n",
        "# Callbacks for early stopping and learning rate scheduling\n",
        "early_stopping = EarlyStopping(monitor='val_loss', patience=3, restore_best_weights=True)\n",
        "lr_scheduler = LearningRateScheduler(lambda epoch: 1e-3 * 0.9 ** epoch)\n"
      ],
      "metadata": {
        "id": "TZbhnrzbS-NM"
      },
      "execution_count": null,
      "outputs": []
    },
    {
      "cell_type": "code",
      "source": [
        "# Compile the model\n",
        "model.compile(\n",
        "    loss='categorical_crossentropy',\n",
        "    optimizer='adam',  # Correct: pass as a string\n",
        "    metrics=[\"accuracy\"]\n",
        ")\n"
      ],
      "metadata": {
        "id": "7-USWmrfqXE8"
      },
      "execution_count": null,
      "outputs": []
    },
    {
      "cell_type": "code",
      "source": [
        "# Fit the model using only 30 batches per epoch\n",
        "history = model.fit(\n",
        "    train_data,  # Use the full DirectoryIterator\n",
        "    validation_data=valid_data,  # Full validation dataset\n",
        "    epochs=50,\n",
        "    steps_per_epoch=30,  # Use only 30 batches per epoch\n",
        "    # callbacks=[early_stopping]\n",
        ")\n"
      ],
      "metadata": {
        "id": "ZdQyKqSmTErv",
        "colab": {
          "base_uri": "https://localhost:8080/"
        },
        "outputId": "74d6f4b8-1586-4c89-d43a-3c21156e2018"
      },
      "execution_count": null,
      "outputs": [
        {
          "output_type": "stream",
          "name": "stdout",
          "text": [
            "Epoch 1/50\n"
          ]
        },
        {
          "output_type": "stream",
          "name": "stderr",
          "text": [
            "/usr/local/lib/python3.10/dist-packages/keras/src/trainers/data_adapters/py_dataset_adapter.py:122: UserWarning: Your `PyDataset` class should call `super().__init__(**kwargs)` in its constructor. `**kwargs` can include `workers`, `use_multiprocessing`, `max_queue_size`. Do not pass these arguments to `fit()`, as they will be ignored.\n",
            "  self._warn_if_super_not_called()\n"
          ]
        },
        {
          "output_type": "stream",
          "name": "stdout",
          "text": [
            "\u001b[1m30/30\u001b[0m \u001b[32m━━━━━━━━━━━━━━━━━━━━\u001b[0m\u001b[37m\u001b[0m \u001b[1m68s\u001b[0m 2s/step - accuracy: 0.1828 - loss: 2.0986 - val_accuracy: 0.1729 - val_loss: 1.8619\n",
            "Epoch 2/50\n",
            "\u001b[1m30/30\u001b[0m \u001b[32m━━━━━━━━━━━━━━━━━━━━\u001b[0m\u001b[37m\u001b[0m \u001b[1m92s\u001b[0m 3s/step - accuracy: 0.2165 - loss: 1.8436 - val_accuracy: 0.2513 - val_loss: 1.8175\n",
            "Epoch 3/50\n",
            "\u001b[1m30/30\u001b[0m \u001b[32m━━━━━━━━━━━━━━━━━━━━\u001b[0m\u001b[37m\u001b[0m \u001b[1m53s\u001b[0m 2s/step - accuracy: 0.2510 - loss: 1.8264 - val_accuracy: 0.2513 - val_loss: 1.8219\n",
            "Epoch 4/50\n",
            "\u001b[1m30/30\u001b[0m \u001b[32m━━━━━━━━━━━━━━━━━━━━\u001b[0m\u001b[37m\u001b[0m \u001b[1m55s\u001b[0m 2s/step - accuracy: 0.2439 - loss: 1.8122 - val_accuracy: 0.2513 - val_loss: 1.8169\n",
            "Epoch 5/50\n",
            "\u001b[1m30/30\u001b[0m \u001b[32m━━━━━━━━━━━━━━━━━━━━\u001b[0m\u001b[37m\u001b[0m \u001b[1m56s\u001b[0m 2s/step - accuracy: 0.2917 - loss: 1.8052 - val_accuracy: 0.2513 - val_loss: 1.8301\n",
            "Epoch 6/50\n",
            "\u001b[1m30/30\u001b[0m \u001b[32m━━━━━━━━━━━━━━━━━━━━\u001b[0m\u001b[37m\u001b[0m \u001b[1m51s\u001b[0m 2s/step - accuracy: 0.2571 - loss: 1.8394 - val_accuracy: 0.2513 - val_loss: 1.8118\n",
            "Epoch 7/50\n",
            "\u001b[1m30/30\u001b[0m \u001b[32m━━━━━━━━━━━━━━━━━━━━\u001b[0m\u001b[37m\u001b[0m \u001b[1m50s\u001b[0m 2s/step - accuracy: 0.2577 - loss: 1.8270 - val_accuracy: 0.2513 - val_loss: 1.8117\n",
            "Epoch 8/50\n",
            "\u001b[1m30/30\u001b[0m \u001b[32m━━━━━━━━━━━━━━━━━━━━\u001b[0m\u001b[37m\u001b[0m \u001b[1m51s\u001b[0m 2s/step - accuracy: 0.2246 - loss: 1.8336 - val_accuracy: 0.2513 - val_loss: 1.8113\n",
            "Epoch 9/50\n",
            "\u001b[1m30/30\u001b[0m \u001b[32m━━━━━━━━━━━━━━━━━━━━\u001b[0m\u001b[37m\u001b[0m \u001b[1m49s\u001b[0m 2s/step - accuracy: 0.2399 - loss: 1.8198 - val_accuracy: 0.2513 - val_loss: 1.8172\n",
            "Epoch 10/50\n",
            "\u001b[1m30/30\u001b[0m \u001b[32m━━━━━━━━━━━━━━━━━━━━\u001b[0m\u001b[37m\u001b[0m \u001b[1m52s\u001b[0m 2s/step - accuracy: 0.2730 - loss: 1.8196 - val_accuracy: 0.2513 - val_loss: 1.8204\n",
            "Epoch 11/50\n",
            "\u001b[1m30/30\u001b[0m \u001b[32m━━━━━━━━━━━━━━━━━━━━\u001b[0m\u001b[37m\u001b[0m \u001b[1m50s\u001b[0m 2s/step - accuracy: 0.2634 - loss: 1.7952 - val_accuracy: 0.2513 - val_loss: 1.8172\n",
            "Epoch 12/50\n",
            "\u001b[1m30/30\u001b[0m \u001b[32m━━━━━━━━━━━━━━━━━━━━\u001b[0m\u001b[37m\u001b[0m \u001b[1m51s\u001b[0m 2s/step - accuracy: 0.2452 - loss: 1.7978 - val_accuracy: 0.2513 - val_loss: 1.8121\n",
            "Epoch 13/50\n",
            "\u001b[1m30/30\u001b[0m \u001b[32m━━━━━━━━━━━━━━━━━━━━\u001b[0m\u001b[37m\u001b[0m \u001b[1m49s\u001b[0m 2s/step - accuracy: 0.2128 - loss: 1.8129 - val_accuracy: 0.2513 - val_loss: 1.8149\n",
            "Epoch 14/50\n",
            "\u001b[1m30/30\u001b[0m \u001b[32m━━━━━━━━━━━━━━━━━━━━\u001b[0m\u001b[37m\u001b[0m \u001b[1m51s\u001b[0m 2s/step - accuracy: 0.2677 - loss: 1.8082 - val_accuracy: 0.2513 - val_loss: 1.8102\n",
            "Epoch 15/50\n",
            "\u001b[1m30/30\u001b[0m \u001b[32m━━━━━━━━━━━━━━━━━━━━\u001b[0m\u001b[37m\u001b[0m \u001b[1m86s\u001b[0m 3s/step - accuracy: 0.2284 - loss: 1.8195 - val_accuracy: 0.2513 - val_loss: 1.8108\n",
            "Epoch 16/50\n",
            "\u001b[1m30/30\u001b[0m \u001b[32m━━━━━━━━━━━━━━━━━━━━\u001b[0m\u001b[37m\u001b[0m \u001b[1m52s\u001b[0m 2s/step - accuracy: 0.2647 - loss: 1.8133 - val_accuracy: 0.2513 - val_loss: 1.8119\n",
            "Epoch 17/50\n",
            "\u001b[1m30/30\u001b[0m \u001b[32m━━━━━━━━━━━━━━━━━━━━\u001b[0m\u001b[37m\u001b[0m \u001b[1m49s\u001b[0m 2s/step - accuracy: 0.2434 - loss: 1.8137 - val_accuracy: 0.2513 - val_loss: 1.8135\n",
            "Epoch 18/50\n",
            "\u001b[1m30/30\u001b[0m \u001b[32m━━━━━━━━━━━━━━━━━━━━\u001b[0m\u001b[37m\u001b[0m \u001b[1m51s\u001b[0m 2s/step - accuracy: 0.2413 - loss: 1.8291 - val_accuracy: 0.2513 - val_loss: 1.8120\n",
            "Epoch 19/50\n",
            "\u001b[1m30/30\u001b[0m \u001b[32m━━━━━━━━━━━━━━━━━━━━\u001b[0m\u001b[37m\u001b[0m \u001b[1m49s\u001b[0m 2s/step - accuracy: 0.2659 - loss: 1.7925 - val_accuracy: 0.2513 - val_loss: 1.8130\n",
            "Epoch 20/50\n",
            "\u001b[1m30/30\u001b[0m \u001b[32m━━━━━━━━━━━━━━━━━━━━\u001b[0m\u001b[37m\u001b[0m \u001b[1m51s\u001b[0m 2s/step - accuracy: 0.2399 - loss: 1.8164 - val_accuracy: 0.2513 - val_loss: 1.8112\n",
            "Epoch 21/50\n",
            "\u001b[1m30/30\u001b[0m \u001b[32m━━━━━━━━━━━━━━━━━━━━\u001b[0m\u001b[37m\u001b[0m \u001b[1m49s\u001b[0m 2s/step - accuracy: 0.2503 - loss: 1.7875 - val_accuracy: 0.2513 - val_loss: 1.8126\n",
            "Epoch 22/50\n",
            "\u001b[1m30/30\u001b[0m \u001b[32m━━━━━━━━━━━━━━━━━━━━\u001b[0m\u001b[37m\u001b[0m \u001b[1m51s\u001b[0m 2s/step - accuracy: 0.2594 - loss: 1.8452 - val_accuracy: 0.2513 - val_loss: 1.8145\n",
            "Epoch 23/50\n",
            "\u001b[1m30/30\u001b[0m \u001b[32m━━━━━━━━━━━━━━━━━━━━\u001b[0m\u001b[37m\u001b[0m \u001b[1m49s\u001b[0m 2s/step - accuracy: 0.2575 - loss: 1.8047 - val_accuracy: 0.2513 - val_loss: 1.8098\n",
            "Epoch 24/50\n",
            "\u001b[1m30/30\u001b[0m \u001b[32m━━━━━━━━━━━━━━━━━━━━\u001b[0m\u001b[37m\u001b[0m \u001b[1m51s\u001b[0m 2s/step - accuracy: 0.2510 - loss: 1.8029 - val_accuracy: 0.2513 - val_loss: 1.8119\n",
            "Epoch 25/50\n",
            "\u001b[1m30/30\u001b[0m \u001b[32m━━━━━━━━━━━━━━━━━━━━\u001b[0m\u001b[37m\u001b[0m \u001b[1m48s\u001b[0m 2s/step - accuracy: 0.2077 - loss: 1.8366 - val_accuracy: 0.2513 - val_loss: 1.8112\n",
            "Epoch 26/50\n",
            "\u001b[1m30/30\u001b[0m \u001b[32m━━━━━━━━━━━━━━━━━━━━\u001b[0m\u001b[37m\u001b[0m \u001b[1m42s\u001b[0m 1s/step - accuracy: 0.2685 - loss: 1.7988 - val_accuracy: 0.2513 - val_loss: 1.8122\n",
            "Epoch 27/50\n",
            "\u001b[1m 6/30\u001b[0m \u001b[32m━━━━\u001b[0m\u001b[37m━━━━━━━━━━━━━━━━\u001b[0m \u001b[1m1s\u001b[0m 48ms/step - accuracy: 0.2686 - loss: 1.7590"
          ]
        },
        {
          "output_type": "stream",
          "name": "stderr",
          "text": [
            "/usr/lib/python3.10/contextlib.py:153: UserWarning: Your input ran out of data; interrupting training. Make sure that your dataset or generator can generate at least `steps_per_epoch * epochs` batches. You may need to use the `.repeat()` function when building your dataset.\n",
            "  self.gen.throw(typ, value, traceback)\n"
          ]
        },
        {
          "output_type": "stream",
          "name": "stdout",
          "text": [
            "\b\b\b\b\b\b\b\b\b\b\b\b\b\b\b\b\b\b\b\b\b\b\b\b\b\b\b\b\b\b\b\b\b\b\b\b\b\b\b\b\b\b\b\b\b\b\b\b\b\b\b\b\b\b\b\b\b\b\b\b\b\b\b\b\b\b\b\b\b\b\b\b\b\r\u001b[1m30/30\u001b[0m \u001b[32m━━━━━━━━━━━━━━━━━━━━\u001b[0m\u001b[37m\u001b[0m \u001b[1m41s\u001b[0m 1s/step - accuracy: 0.2662 - loss: 1.7624 - val_accuracy: 0.2513 - val_loss: 1.8132\n",
            "Epoch 28/50\n",
            "\u001b[1m30/30\u001b[0m \u001b[32m━━━━━━━━━━━━━━━━━━━━\u001b[0m\u001b[37m\u001b[0m \u001b[1m71s\u001b[0m 2s/step - accuracy: 0.2576 - loss: 1.8159 - val_accuracy: 0.2513 - val_loss: 1.8123\n",
            "Epoch 29/50\n",
            "\u001b[1m30/30\u001b[0m \u001b[32m━━━━━━━━━━━━━━━━━━━━\u001b[0m\u001b[37m\u001b[0m \u001b[1m53s\u001b[0m 2s/step - accuracy: 0.2557 - loss: 1.7997 - val_accuracy: 0.2513 - val_loss: 1.8103\n",
            "Epoch 30/50\n",
            "\u001b[1m30/30\u001b[0m \u001b[32m━━━━━━━━━━━━━━━━━━━━\u001b[0m\u001b[37m\u001b[0m \u001b[1m53s\u001b[0m 2s/step - accuracy: 0.2676 - loss: 1.7824 - val_accuracy: 0.2513 - val_loss: 1.8111\n",
            "Epoch 31/50\n",
            "\u001b[1m30/30\u001b[0m \u001b[32m━━━━━━━━━━━━━━━━━━━━\u001b[0m\u001b[37m\u001b[0m \u001b[1m0s\u001b[0m 283ms/step - accuracy: 0.2431 - loss: 1.8013"
          ]
        }
      ]
    },
    {
      "cell_type": "code",
      "source": [
        "model.save(\"alexnet_model.keras\")"
      ],
      "metadata": {
        "id": "IGu1j4E4TJm6"
      },
      "execution_count": null,
      "outputs": []
    },
    {
      "cell_type": "markdown",
      "source": [
        "# Testing and Evaluation\n"
      ],
      "metadata": {
        "id": "8eoJ627fkIHs"
      }
    },
    {
      "cell_type": "code",
      "source": [
        "import numpy as np\n",
        "import matplotlib.pyplot as plt\n",
        "\n",
        "# Collect all images and true labels from the validation dataset\n",
        "X_test_all = []\n",
        "Y_true_all = []\n",
        "\n",
        "for X_batch, Y_batch in valid_data:  # Iterate through the dataset\n",
        "    X_test_all.append(X_batch)  # Directly append the numpy arrays\n",
        "    Y_true_all.append(Y_batch)  # Directly append the numpy arrays\n",
        "\n",
        "# Concatenate all batches into single arrays\n",
        "X_test_all = np.concatenate(X_test_all, axis=0)\n",
        "Y_true_all = np.concatenate(Y_true_all, axis=0)\n",
        "\n",
        "# Predict on the entire test dataset\n",
        "Y_pred = model.predict(X_test_all)  # Predictions for the test set\n",
        "Y_pred_classes = np.argmax(Y_pred, axis=1)  # Convert predicted probabilities to class indices\n",
        "\n",
        "# Define class labels (if not already defined)\n",
        "class_labels = CLASS_NAMES  # Replace with your class names\n",
        "\n",
        "# Function to randomly sample images and check predictions\n",
        "def plot_random_samples(X_data, Y_true, Y_pred_classes, class_labels, n=10):\n",
        "    random_indices = np.random.choice(len(X_data), size=n, replace=False)  # Randomly select `n` indices\n",
        "    plt.figure(figsize=(15, 15))\n",
        "    for i, idx in enumerate(random_indices):\n",
        "        plt.subplot(1, n, i + 1)\n",
        "        plt.imshow(X_data[idx].astype(\"uint8\"))  # Assuming images are RGB and in uint8 format\n",
        "        true_label = class_labels[Y_true[idx]]  # Map integer to class name\n",
        "        pred_label = class_labels[Y_pred_classes[idx]]  # Map integer to class name\n",
        "        color = \"green\" if Y_true[idx] == Y_pred_classes[idx] else \"red\"\n",
        "        plt.title(f\"True: {true_label}\\nPred: {pred_label}\", color=color)\n",
        "        plt.axis('off')\n",
        "    plt.suptitle(\"Random Sample Predictions (Correct: Green, Incorrect: Red)\", fontsize=16)\n",
        "    plt.show()\n",
        "\n",
        "# Choose `n` random samples and visualize\n",
        "n = 5  # Number of random samples to display\n",
        "plot_random_samples(X_test_all, Y_true_all, Y_pred_classes, class_labels, n=n)\n"
      ],
      "metadata": {
        "id": "1ZyeGfRmmhtK"
      },
      "execution_count": null,
      "outputs": []
    },
    {
      "cell_type": "code",
      "source": [
        "Y_pred = model.predict(valid_data)\n",
        "score = model.evaluate(valid_data)\n",
        "print('Test loss:', score[0])\n",
        "print('Test accuracy:', score[1])"
      ],
      "metadata": {
        "id": "I1W0rqbkmlkO"
      },
      "execution_count": null,
      "outputs": []
    },
    {
      "cell_type": "code",
      "source": [
        "# Define class names (replace these with actual class names if available)\n",
        "CLASS_NAMES = CLASS_NAMES# Ensure 'class_names' is defined in your code\n",
        "\n",
        "# Function to plot accuracy and loss curves\n",
        "def plot_training_curves(history):\n",
        "    # Use a dark theme\n",
        "    plt.style.use('dark_background')\n",
        "    plt.figure(figsize=(12, 4))\n",
        "\n",
        "    # Accuracy plot\n",
        "    plt.subplot(1, 2, 1)\n",
        "    plt.plot(history.history['accuracy'], label='Training Accuracy', color='cyan')\n",
        "    plt.plot(history.history['val_accuracy'], label='Validation Accuracy', color='orange')\n",
        "    plt.xlabel('Epochs')\n",
        "    plt.ylabel('Accuracy')\n",
        "    plt.legend()\n",
        "    plt.title('Training and Validation Accuracy')\n",
        "\n",
        "    # Loss plot\n",
        "    plt.subplot(1, 2, 2)\n",
        "    plt.plot(history.history['loss'], label='Training Loss', color='cyan')\n",
        "    plt.plot(history.history['val_loss'], label='Validation Loss', color='orange')\n",
        "    plt.xlabel('Epochs')\n",
        "    plt.ylabel('Loss')\n",
        "    plt.legend()\n",
        "    plt.title('Training and Validation Loss')\n",
        "\n",
        "    plt.show()\n",
        "\n",
        "# Call the function to plot curves\n",
        "plot_training_curves(history)"
      ],
      "metadata": {
        "id": "AUICLPnMmo8N"
      },
      "execution_count": null,
      "outputs": []
    },
    {
      "cell_type": "code",
      "source": [
        "import numpy as np\n",
        "from sklearn.metrics import classification_report, confusion_matrix\n",
        "import seaborn as sns\n",
        "import matplotlib.pyplot as plt\n",
        "\n",
        "# Initialize lists for true labels and predictions\n",
        "Y_true = []\n",
        "Y_pred_classes = []\n",
        "\n",
        "# Loop through validation data to get true labels and predictions\n",
        "for X_batch, Y_batch in valid_data:\n",
        "    # True labels\n",
        "    Y_true.extend(Y_batch)\n",
        "    # Predictions\n",
        "    Y_pred = model.predict(X_batch)\n",
        "    Y_pred_classes.extend(np.argmax(Y_pred, axis=1))  # Convert probabilities to class indices\n",
        "\n",
        "# Convert lists to NumPy arrays\n",
        "Y_true = np.array(Y_true)\n",
        "Y_pred_classes = np.array(Y_pred_classes)\n",
        "\n",
        "\n",
        "# Define class labels (ensure they match your training labels)\n",
        "class_labels = CLASS_NAMES  # Replace CLASS_NAMES with your actual class names\n",
        "\n",
        "# Generate and print the classification report\n",
        "report = classification_report(Y_true, Y_pred_classes, target_names=class_labels)\n",
        "print(\"Classification Report:\\n\", report)\n",
        "\n",
        "\n",
        "# Calculate the confusion matrix\n",
        "conf_matrix = confusion_matrix(Y_true, Y_pred_classes)\n",
        "\n",
        "# Plot the confusion matrix\n",
        "plt.figure(figsize=(10, 8))\n",
        "sns.heatmap(conf_matrix, annot=True, fmt='d', cmap='Blues', xticklabels=class_labels, yticklabels=class_labels)\n",
        "plt.xlabel('Predicted Labels')\n",
        "plt.ylabel('True Labels')\n",
        "plt.title('Confusion Matrix')\n",
        "plt.show()\n",
        "\n",
        "\n",
        "# Calculate normalized confusion matrix\n",
        "conf_matrix_normalized = confusion_matrix(Y_true, Y_pred_classes, normalize='true')\n",
        "\n",
        "# Plot the normalized confusion matrix\n",
        "plt.figure(figsize=(10, 8))\n",
        "sns.heatmap(conf_matrix_normalized, annot=True, fmt='.2f', cmap='Blues', xticklabels=class_labels, yticklabels=class_labels)\n",
        "plt.xlabel('Predicted Labels')\n",
        "plt.ylabel('True Labels')\n",
        "plt.title('Normalized Confusion Matrix')\n",
        "plt.show()\n"
      ],
      "metadata": {
        "id": "It0NTAu2mrML",
        "collapsed": true
      },
      "execution_count": null,
      "outputs": []
    },
    {
      "cell_type": "code",
      "source": [],
      "metadata": {
        "id": "DZzOhTjNNA6j"
      },
      "execution_count": null,
      "outputs": []
    }
  ]
}